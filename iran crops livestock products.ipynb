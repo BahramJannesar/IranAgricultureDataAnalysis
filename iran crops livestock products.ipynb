{
 "cells": [
  {
   "cell_type": "code",
   "execution_count": 60,
   "metadata": {},
   "outputs": [],
   "source": [
    "import pandas as pd\n",
    "import matplotlib.pyplot as plt\n",
    "import seaborn as sns"
   ]
  },
  {
   "cell_type": "code",
   "execution_count": 3,
   "metadata": {},
   "outputs": [],
   "source": [
    "iran = pd.read_csv('dataset/FAO_STAT_iran_crops_livestock_products.csv')"
   ]
  },
  {
   "cell_type": "code",
   "execution_count": 4,
   "metadata": {},
   "outputs": [],
   "source": [
    "iran = iran.drop(['Domain Code' , 'Domain' , 'Area Code' , 'Area' , 'Element Code' , 'Item Code' , 'Year Code'\n",
    "               , 'Flag' , 'Flag Description'] , axis = 1)"
   ]
  },
  {
   "cell_type": "code",
   "execution_count": 5,
   "metadata": {},
   "outputs": [],
   "source": [
    "iran_export_quantity = iran[iran['Element'] == 'Export Quantity']\n",
    "iran_export_value = iran[iran['Element'] == 'Export Value']\n",
    "iran_import_quantity = iran[iran['Element'] == 'Import Value']\n",
    "iran_import_value = iran[iran['Element'] == 'Import Quantity']"
   ]
  },
  {
   "cell_type": "code",
   "execution_count": 6,
   "metadata": {},
   "outputs": [],
   "source": [
    "iran_export_value_counts_item = iran_export_value['Item'].value_counts().to_frame()"
   ]
  },
  {
   "cell_type": "code",
   "execution_count": 7,
   "metadata": {},
   "outputs": [],
   "source": [
    "iran_export_value_counts_item.reset_index(inplace=True)"
   ]
  },
  {
   "cell_type": "code",
   "execution_count": 8,
   "metadata": {},
   "outputs": [],
   "source": [
    "iran_export_value_counts_item = iran_export_value_counts_item[iran_export_value_counts_item['Item'] >= 10]"
   ]
  },
  {
   "cell_type": "code",
   "execution_count": 63,
   "metadata": {
    "scrolled": true
   },
   "outputs": [],
   "source": [
    "for row, col in iran_export_value.iterrows():\n",
    "    if col['Item'] not in list(iran_export_value_counts_item['index']):\n",
    "        iran_export_value.drop(row, axis= 0, inplace= True)\n",
    "iran_export_value.reset_index(inplace=True)"
   ]
  },
  {
   "cell_type": "code",
   "execution_count": 64,
   "metadata": {},
   "outputs": [],
   "source": [
    "del iran_export_value['index']"
   ]
  },
  {
   "cell_type": "code",
   "execution_count": 65,
   "metadata": {},
   "outputs": [],
   "source": [
    "iran_export_value = iran_export_value.dropna()"
   ]
  },
  {
   "cell_type": "code",
   "execution_count": 66,
   "metadata": {},
   "outputs": [],
   "source": [
    "iran_export_value.reset_index(inplace=True)"
   ]
  },
  {
   "cell_type": "code",
   "execution_count": 67,
   "metadata": {},
   "outputs": [],
   "source": [
    "del iran_export_value['index']"
   ]
  },
  {
   "cell_type": "code",
   "execution_count": 68,
   "metadata": {},
   "outputs": [],
   "source": [
    "almonds_shelled = iran_export_value[iran_export_value['Item'] == 'Almonds shelled'] "
   ]
  },
  {
   "cell_type": "code",
   "execution_count": 69,
   "metadata": {},
   "outputs": [
    {
     "data": {
      "text/html": [
       "<div>\n",
       "<style scoped>\n",
       "    .dataframe tbody tr th:only-of-type {\n",
       "        vertical-align: middle;\n",
       "    }\n",
       "\n",
       "    .dataframe tbody tr th {\n",
       "        vertical-align: top;\n",
       "    }\n",
       "\n",
       "    .dataframe thead th {\n",
       "        text-align: right;\n",
       "    }\n",
       "</style>\n",
       "<table border=\"1\" class=\"dataframe\">\n",
       "  <thead>\n",
       "    <tr style=\"text-align: right;\">\n",
       "      <th></th>\n",
       "      <th>Element</th>\n",
       "      <th>Item</th>\n",
       "      <th>Year</th>\n",
       "      <th>Unit</th>\n",
       "      <th>Value</th>\n",
       "    </tr>\n",
       "  </thead>\n",
       "  <tbody>\n",
       "    <tr>\n",
       "      <th>15</th>\n",
       "      <td>Export Value</td>\n",
       "      <td>Almonds shelled</td>\n",
       "      <td>1997</td>\n",
       "      <td>1000 US$</td>\n",
       "      <td>6329.0</td>\n",
       "    </tr>\n",
       "    <tr>\n",
       "      <th>16</th>\n",
       "      <td>Export Value</td>\n",
       "      <td>Almonds shelled</td>\n",
       "      <td>1998</td>\n",
       "      <td>1000 US$</td>\n",
       "      <td>6852.0</td>\n",
       "    </tr>\n",
       "    <tr>\n",
       "      <th>17</th>\n",
       "      <td>Export Value</td>\n",
       "      <td>Almonds shelled</td>\n",
       "      <td>1999</td>\n",
       "      <td>1000 US$</td>\n",
       "      <td>7147.0</td>\n",
       "    </tr>\n",
       "    <tr>\n",
       "      <th>18</th>\n",
       "      <td>Export Value</td>\n",
       "      <td>Almonds shelled</td>\n",
       "      <td>2000</td>\n",
       "      <td>1000 US$</td>\n",
       "      <td>6595.0</td>\n",
       "    </tr>\n",
       "    <tr>\n",
       "      <th>19</th>\n",
       "      <td>Export Value</td>\n",
       "      <td>Almonds shelled</td>\n",
       "      <td>2001</td>\n",
       "      <td>1000 US$</td>\n",
       "      <td>10787.0</td>\n",
       "    </tr>\n",
       "    <tr>\n",
       "      <th>20</th>\n",
       "      <td>Export Value</td>\n",
       "      <td>Almonds shelled</td>\n",
       "      <td>2002</td>\n",
       "      <td>1000 US$</td>\n",
       "      <td>37626.0</td>\n",
       "    </tr>\n",
       "    <tr>\n",
       "      <th>21</th>\n",
       "      <td>Export Value</td>\n",
       "      <td>Almonds shelled</td>\n",
       "      <td>2003</td>\n",
       "      <td>1000 US$</td>\n",
       "      <td>6213.0</td>\n",
       "    </tr>\n",
       "    <tr>\n",
       "      <th>22</th>\n",
       "      <td>Export Value</td>\n",
       "      <td>Almonds shelled</td>\n",
       "      <td>2004</td>\n",
       "      <td>1000 US$</td>\n",
       "      <td>4185.0</td>\n",
       "    </tr>\n",
       "    <tr>\n",
       "      <th>23</th>\n",
       "      <td>Export Value</td>\n",
       "      <td>Almonds shelled</td>\n",
       "      <td>2005</td>\n",
       "      <td>1000 US$</td>\n",
       "      <td>1963.0</td>\n",
       "    </tr>\n",
       "    <tr>\n",
       "      <th>24</th>\n",
       "      <td>Export Value</td>\n",
       "      <td>Almonds shelled</td>\n",
       "      <td>2006</td>\n",
       "      <td>1000 US$</td>\n",
       "      <td>5347.0</td>\n",
       "    </tr>\n",
       "    <tr>\n",
       "      <th>25</th>\n",
       "      <td>Export Value</td>\n",
       "      <td>Almonds shelled</td>\n",
       "      <td>2007</td>\n",
       "      <td>1000 US$</td>\n",
       "      <td>8596.0</td>\n",
       "    </tr>\n",
       "    <tr>\n",
       "      <th>26</th>\n",
       "      <td>Export Value</td>\n",
       "      <td>Almonds shelled</td>\n",
       "      <td>2008</td>\n",
       "      <td>1000 US$</td>\n",
       "      <td>7102.0</td>\n",
       "    </tr>\n",
       "    <tr>\n",
       "      <th>27</th>\n",
       "      <td>Export Value</td>\n",
       "      <td>Almonds shelled</td>\n",
       "      <td>2009</td>\n",
       "      <td>1000 US$</td>\n",
       "      <td>10202.0</td>\n",
       "    </tr>\n",
       "    <tr>\n",
       "      <th>28</th>\n",
       "      <td>Export Value</td>\n",
       "      <td>Almonds shelled</td>\n",
       "      <td>2010</td>\n",
       "      <td>1000 US$</td>\n",
       "      <td>13283.0</td>\n",
       "    </tr>\n",
       "    <tr>\n",
       "      <th>29</th>\n",
       "      <td>Export Value</td>\n",
       "      <td>Almonds shelled</td>\n",
       "      <td>2011</td>\n",
       "      <td>1000 US$</td>\n",
       "      <td>18786.0</td>\n",
       "    </tr>\n",
       "    <tr>\n",
       "      <th>30</th>\n",
       "      <td>Export Value</td>\n",
       "      <td>Almonds shelled</td>\n",
       "      <td>2012</td>\n",
       "      <td>1000 US$</td>\n",
       "      <td>12666.0</td>\n",
       "    </tr>\n",
       "    <tr>\n",
       "      <th>31</th>\n",
       "      <td>Export Value</td>\n",
       "      <td>Almonds shelled</td>\n",
       "      <td>2013</td>\n",
       "      <td>1000 US$</td>\n",
       "      <td>16688.0</td>\n",
       "    </tr>\n",
       "    <tr>\n",
       "      <th>32</th>\n",
       "      <td>Export Value</td>\n",
       "      <td>Almonds shelled</td>\n",
       "      <td>2014</td>\n",
       "      <td>1000 US$</td>\n",
       "      <td>22454.0</td>\n",
       "    </tr>\n",
       "    <tr>\n",
       "      <th>33</th>\n",
       "      <td>Export Value</td>\n",
       "      <td>Almonds shelled</td>\n",
       "      <td>2015</td>\n",
       "      <td>1000 US$</td>\n",
       "      <td>19374.0</td>\n",
       "    </tr>\n",
       "    <tr>\n",
       "      <th>34</th>\n",
       "      <td>Export Value</td>\n",
       "      <td>Almonds shelled</td>\n",
       "      <td>2016</td>\n",
       "      <td>1000 US$</td>\n",
       "      <td>33938.0</td>\n",
       "    </tr>\n",
       "    <tr>\n",
       "      <th>35</th>\n",
       "      <td>Export Value</td>\n",
       "      <td>Almonds shelled</td>\n",
       "      <td>2017</td>\n",
       "      <td>1000 US$</td>\n",
       "      <td>42334.0</td>\n",
       "    </tr>\n",
       "  </tbody>\n",
       "</table>\n",
       "</div>"
      ],
      "text/plain": [
       "         Element             Item  Year      Unit    Value\n",
       "15  Export Value  Almonds shelled  1997  1000 US$   6329.0\n",
       "16  Export Value  Almonds shelled  1998  1000 US$   6852.0\n",
       "17  Export Value  Almonds shelled  1999  1000 US$   7147.0\n",
       "18  Export Value  Almonds shelled  2000  1000 US$   6595.0\n",
       "19  Export Value  Almonds shelled  2001  1000 US$  10787.0\n",
       "20  Export Value  Almonds shelled  2002  1000 US$  37626.0\n",
       "21  Export Value  Almonds shelled  2003  1000 US$   6213.0\n",
       "22  Export Value  Almonds shelled  2004  1000 US$   4185.0\n",
       "23  Export Value  Almonds shelled  2005  1000 US$   1963.0\n",
       "24  Export Value  Almonds shelled  2006  1000 US$   5347.0\n",
       "25  Export Value  Almonds shelled  2007  1000 US$   8596.0\n",
       "26  Export Value  Almonds shelled  2008  1000 US$   7102.0\n",
       "27  Export Value  Almonds shelled  2009  1000 US$  10202.0\n",
       "28  Export Value  Almonds shelled  2010  1000 US$  13283.0\n",
       "29  Export Value  Almonds shelled  2011  1000 US$  18786.0\n",
       "30  Export Value  Almonds shelled  2012  1000 US$  12666.0\n",
       "31  Export Value  Almonds shelled  2013  1000 US$  16688.0\n",
       "32  Export Value  Almonds shelled  2014  1000 US$  22454.0\n",
       "33  Export Value  Almonds shelled  2015  1000 US$  19374.0\n",
       "34  Export Value  Almonds shelled  2016  1000 US$  33938.0\n",
       "35  Export Value  Almonds shelled  2017  1000 US$  42334.0"
      ]
     },
     "execution_count": 69,
     "metadata": {},
     "output_type": "execute_result"
    }
   ],
   "source": [
    "almonds_shelled"
   ]
  },
  {
   "cell_type": "code",
   "execution_count": 70,
   "metadata": {},
   "outputs": [
    {
     "data": {
      "image/png": "[encoded data removed]",
      "text/plain": [
       "<Figure size 936x360 with 1 Axes>"
      ]
     },
     "metadata": {},
     "output_type": "display_data"
    }
   ],
   "source": [
    "sns.set(style=\"whitegrid\")\n",
    "plt.figure(figsize=(13, 5))\n",
    "sns.lineplot(x = 'Year' , y = 'Value' , data = almonds_shelled , err_style=\"bars\" , color=\"coral\")\n",
    "plt.ylabel('Value (1000 US$)')\n",
    "plt.xlabel('Year')\n",
    "plt.show()"
   ]
  },
  {
   "cell_type": "code",
   "execution_count": null,
   "metadata": {},
   "outputs": [],
   "source": []
  }
 ],
 "metadata": {
  "kernelspec": {
   "display_name": "Python 3",
   "language": "python",
   "name": "python3"
  },
  "language_info": {
   "codemirror_mode": {
    "name": "ipython",
    "version": 2
   },
   "file_extension": ".py",
   "mimetype": "text/x-python",
   "name": "python",
   "nbconvert_exporter": "python",
   "pygments_lexer": "ipython2",
   "version": "2.7.17"
  }
 },
 "nbformat": 4,
 "nbformat_minor": 2
}
