{
 "cells": [
  {
   "cell_type": "code",
   "execution_count": 1,
   "metadata": {},
   "outputs": [],
   "source": [
    "import pandas as pd"
   ]
  },
  {
   "cell_type": "code",
   "execution_count": 6,
   "metadata": {},
   "outputs": [],
   "source": [
    "iran = pd.read_csv('dataset/FAO_STAT_iran_crops_livestock_products.csv')"
   ]
  },
  {
   "cell_type": "code",
   "execution_count": 7,
   "metadata": {},
   "outputs": [],
   "source": [
    "iran = iran.drop(['Domain Code' , 'Domain' , 'Area Code' , 'Area' , 'Element Code' , 'Item Code' , 'Year Code'\n",
    "               , 'Flag' , 'Flag Description'] , axis = 1)"
   ]
  },
  {
   "cell_type": "code",
   "execution_count": 15,
   "metadata": {},
   "outputs": [],
   "source": [
    "iran_export_quantity = iran[iran['Element'] == 'Export Quantity']\n",
    "iran_export_value = iran[iran['Element'] == 'Export Value']\n",
    "iran_import_quantity = iran[iran['Element'] == 'Import Value']\n",
    "iran_import_value = iran[iran['Element'] == 'Import Quantity']"
   ]
  },
  {
   "cell_type": "code",
   "execution_count": null,
   "metadata": {},
   "outputs": [],
   "source": []
  }
 ],
 "metadata": {
  "kernelspec": {
   "display_name": "Python 3",
   "language": "python",
   "name": "python3"
  },
  "language_info": {
   "codemirror_mode": {
    "name": "ipython",
    "version": 2
   },
   "file_extension": ".py",
   "mimetype": "text/x-python",
   "name": "python",
   "nbconvert_exporter": "python",
   "pygments_lexer": "ipython2",
   "version": "2.7.17"
  }
 },
 "nbformat": 4,
 "nbformat_minor": 2
}
